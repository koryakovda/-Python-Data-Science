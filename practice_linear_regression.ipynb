{
  "nbformat": 4,
  "nbformat_minor": 0,
  "metadata": {
    "colab": {
      "provenance": [],
      "include_colab_link": true
    },
    "kernelspec": {
      "name": "python3",
      "display_name": "Python 3"
    },
    "language_info": {
      "name": "python"
    }
  },
  "cells": [
    {
      "cell_type": "markdown",
      "metadata": {
        "id": "view-in-github",
        "colab_type": "text"
      },
      "source": [
        "<a href=\"https://colab.research.google.com/github/koryakovda/-Python-Data-Science/blob/master/practice_linear_regression.ipynb\" target=\"_parent\"><img src=\"https://colab.research.google.com/assets/colab-badge.svg\" alt=\"Open In Colab\"/></a>"
      ]
    },
    {
      "cell_type": "markdown",
      "source": [
        "# Линейная регрессия"
      ],
      "metadata": {
        "id": "YENBrjbPiQwC"
      }
    },
    {
      "cell_type": "markdown",
      "source": [
        "## Сегодня на практическом занятии:\n",
        "1. Узнаем, какое количество весов нужно обучать для линейной модели\n",
        "2. Обучим модель линейной регрессии из sklearn\n",
        "3. Визуализируем линейную регрессию из sklearn\n",
        "4. Реализуем свой градиентный спуск для нахождения минимума функции\n",
        "5. Реализуем свою линейную регрессию с помощью градиентного спуска"
      ],
      "metadata": {
        "id": "D01f4B0GiNGC"
      }
    },
    {
      "cell_type": "code",
      "metadata": {
        "colab": {
          "base_uri": "https://localhost:8080/"
        },
        "id": "2aEQws1__x5W",
        "outputId": "fe11936f-1d63-48e7-fa4f-1fc783579b6b",
        "cellView": "form"
      },
      "source": [
        "#@title Установка нужных версий библиотек\n",
        "!wget 'https://drive.google.com/uc?export=download&id=1oSFOP0j25OZAuhD8YXxyQXNTdr2lUdtn' -O requirements.txt\n",
        "!pip install -r requirements.txt"
      ],
      "execution_count": 171,
      "outputs": [
        {
          "output_type": "stream",
          "name": "stdout",
          "text": [
            "--2023-02-03 01:27:35--  https://drive.google.com/uc?export=download&id=1oSFOP0j25OZAuhD8YXxyQXNTdr2lUdtn\n",
            "Resolving drive.google.com (drive.google.com)... 142.251.6.102, 142.251.6.139, 142.251.6.100, ...\n",
            "Connecting to drive.google.com (drive.google.com)|142.251.6.102|:443... connected.\n",
            "HTTP request sent, awaiting response... 303 See Other\n",
            "Location: https://doc-0g-c0-docs.googleusercontent.com/docs/securesc/ha0ro937gcuc7l7deffksulhg5h7mbp1/kaploesquak1l1l2a9lb02ia6poah4fj/1675387650000/14904333240138417226/*/1oSFOP0j25OZAuhD8YXxyQXNTdr2lUdtn?e=download&uuid=bed6ec9e-1014-4fe8-8492-ff026648ef2b [following]\n",
            "Warning: wildcards not supported in HTTP.\n",
            "--2023-02-03 01:27:35--  https://doc-0g-c0-docs.googleusercontent.com/docs/securesc/ha0ro937gcuc7l7deffksulhg5h7mbp1/kaploesquak1l1l2a9lb02ia6poah4fj/1675387650000/14904333240138417226/*/1oSFOP0j25OZAuhD8YXxyQXNTdr2lUdtn?e=download&uuid=bed6ec9e-1014-4fe8-8492-ff026648ef2b\n",
            "Resolving doc-0g-c0-docs.googleusercontent.com (doc-0g-c0-docs.googleusercontent.com)... 173.194.193.132, 2607:f8b0:4001:c0f::84\n",
            "Connecting to doc-0g-c0-docs.googleusercontent.com (doc-0g-c0-docs.googleusercontent.com)|173.194.193.132|:443... connected.\n",
            "HTTP request sent, awaiting response... 200 OK\n",
            "Length: 74 [text/plain]\n",
            "Saving to: ‘requirements.txt’\n",
            "\n",
            "requirements.txt    100%[===================>]      74  --.-KB/s    in 0s      \n",
            "\n",
            "2023-02-03 01:27:35 (982 KB/s) - ‘requirements.txt’ saved [74/74]\n",
            "\n",
            "Looking in indexes: https://pypi.org/simple, https://us-python.pkg.dev/colab-wheels/public/simple/\n",
            "Requirement already satisfied: scikit-learn==0.22.2.post1 in /usr/local/lib/python3.8/dist-packages (from -r requirements.txt (line 1)) (0.22.2.post1)\n",
            "Requirement already satisfied: pandas==1.1.5 in /usr/local/lib/python3.8/dist-packages (from -r requirements.txt (line 2)) (1.1.5)\n",
            "Requirement already satisfied: matplotlib==3.2.2 in /usr/local/lib/python3.8/dist-packages (from -r requirements.txt (line 3)) (3.2.2)\n",
            "Requirement already satisfied: numpy==1.19.5 in /usr/local/lib/python3.8/dist-packages (from -r requirements.txt (line 4)) (1.19.5)\n",
            "Requirement already satisfied: scipy>=0.17.0 in /usr/local/lib/python3.8/dist-packages (from scikit-learn==0.22.2.post1->-r requirements.txt (line 1)) (1.7.3)\n",
            "Requirement already satisfied: joblib>=0.11 in /usr/local/lib/python3.8/dist-packages (from scikit-learn==0.22.2.post1->-r requirements.txt (line 1)) (1.2.0)\n",
            "Requirement already satisfied: python-dateutil>=2.7.3 in /usr/local/lib/python3.8/dist-packages (from pandas==1.1.5->-r requirements.txt (line 2)) (2.8.2)\n",
            "Requirement already satisfied: pytz>=2017.2 in /usr/local/lib/python3.8/dist-packages (from pandas==1.1.5->-r requirements.txt (line 2)) (2022.7.1)\n",
            "Requirement already satisfied: pyparsing!=2.0.4,!=2.1.2,!=2.1.6,>=2.0.1 in /usr/local/lib/python3.8/dist-packages (from matplotlib==3.2.2->-r requirements.txt (line 3)) (3.0.9)\n",
            "Requirement already satisfied: kiwisolver>=1.0.1 in /usr/local/lib/python3.8/dist-packages (from matplotlib==3.2.2->-r requirements.txt (line 3)) (1.4.4)\n",
            "Requirement already satisfied: cycler>=0.10 in /usr/local/lib/python3.8/dist-packages (from matplotlib==3.2.2->-r requirements.txt (line 3)) (0.11.0)\n",
            "Requirement already satisfied: six>=1.5 in /usr/local/lib/python3.8/dist-packages (from python-dateutil>=2.7.3->pandas==1.1.5->-r requirements.txt (line 2)) (1.15.0)\n"
          ]
        }
      ]
    },
    {
      "cell_type": "markdown",
      "metadata": {
        "id": "RmcjY5KeviKG"
      },
      "source": [
        "### Получение данных"
      ]
    },
    {
      "cell_type": "markdown",
      "metadata": {
        "id": "K9XUjue5M0Q8"
      },
      "source": [
        "Будем работать с набором данных для задачи регрессии - данные по предсказанию стоимости недвижимости."
      ]
    },
    {
      "cell_type": "code",
      "source": [
        "from sklearn.datasets import fetch_california_housing\n",
        "import pandas as pd\n",
        "import numpy as np\n",
        "\n",
        "\n"
      ],
      "metadata": {
        "id": "J6JNfZQfe87Z"
      },
      "execution_count": 172,
      "outputs": []
    },
    {
      "cell_type": "code",
      "source": [
        "data = fetch_california_housing()\n",
        "X = pd.DataFrame(data['data'], columns=data['feature_names'])\n",
        "y = data['target']\n",
        "X"
      ],
      "metadata": {
        "id": "dAUm_tyeFFrS",
        "outputId": "c1ab084b-3057-4fc7-c270-53e49767e591",
        "colab": {
          "base_uri": "https://localhost:8080/",
          "height": 0
        }
      },
      "execution_count": 173,
      "outputs": [
        {
          "output_type": "execute_result",
          "data": {
            "text/plain": [
              "       MedInc  HouseAge  AveRooms  AveBedrms  Population  AveOccup  Latitude  \\\n",
              "0      8.3252      41.0  6.984127   1.023810       322.0  2.555556     37.88   \n",
              "1      8.3014      21.0  6.238137   0.971880      2401.0  2.109842     37.86   \n",
              "2      7.2574      52.0  8.288136   1.073446       496.0  2.802260     37.85   \n",
              "3      5.6431      52.0  5.817352   1.073059       558.0  2.547945     37.85   \n",
              "4      3.8462      52.0  6.281853   1.081081       565.0  2.181467     37.85   \n",
              "...       ...       ...       ...        ...         ...       ...       ...   \n",
              "20635  1.5603      25.0  5.045455   1.133333       845.0  2.560606     39.48   \n",
              "20636  2.5568      18.0  6.114035   1.315789       356.0  3.122807     39.49   \n",
              "20637  1.7000      17.0  5.205543   1.120092      1007.0  2.325635     39.43   \n",
              "20638  1.8672      18.0  5.329513   1.171920       741.0  2.123209     39.43   \n",
              "20639  2.3886      16.0  5.254717   1.162264      1387.0  2.616981     39.37   \n",
              "\n",
              "       Longitude  \n",
              "0        -122.23  \n",
              "1        -122.22  \n",
              "2        -122.24  \n",
              "3        -122.25  \n",
              "4        -122.25  \n",
              "...          ...  \n",
              "20635    -121.09  \n",
              "20636    -121.21  \n",
              "20637    -121.22  \n",
              "20638    -121.32  \n",
              "20639    -121.24  \n",
              "\n",
              "[20640 rows x 8 columns]"
            ],
            "text/html": [
              "\n",
              "  <div id=\"df-7f04338f-4d1d-46dc-821c-7c8d6387a555\">\n",
              "    <div class=\"colab-df-container\">\n",
              "      <div>\n",
              "<style scoped>\n",
              "    .dataframe tbody tr th:only-of-type {\n",
              "        vertical-align: middle;\n",
              "    }\n",
              "\n",
              "    .dataframe tbody tr th {\n",
              "        vertical-align: top;\n",
              "    }\n",
              "\n",
              "    .dataframe thead th {\n",
              "        text-align: right;\n",
              "    }\n",
              "</style>\n",
              "<table border=\"1\" class=\"dataframe\">\n",
              "  <thead>\n",
              "    <tr style=\"text-align: right;\">\n",
              "      <th></th>\n",
              "      <th>MedInc</th>\n",
              "      <th>HouseAge</th>\n",
              "      <th>AveRooms</th>\n",
              "      <th>AveBedrms</th>\n",
              "      <th>Population</th>\n",
              "      <th>AveOccup</th>\n",
              "      <th>Latitude</th>\n",
              "      <th>Longitude</th>\n",
              "    </tr>\n",
              "  </thead>\n",
              "  <tbody>\n",
              "    <tr>\n",
              "      <th>0</th>\n",
              "      <td>8.3252</td>\n",
              "      <td>41.0</td>\n",
              "      <td>6.984127</td>\n",
              "      <td>1.023810</td>\n",
              "      <td>322.0</td>\n",
              "      <td>2.555556</td>\n",
              "      <td>37.88</td>\n",
              "      <td>-122.23</td>\n",
              "    </tr>\n",
              "    <tr>\n",
              "      <th>1</th>\n",
              "      <td>8.3014</td>\n",
              "      <td>21.0</td>\n",
              "      <td>6.238137</td>\n",
              "      <td>0.971880</td>\n",
              "      <td>2401.0</td>\n",
              "      <td>2.109842</td>\n",
              "      <td>37.86</td>\n",
              "      <td>-122.22</td>\n",
              "    </tr>\n",
              "    <tr>\n",
              "      <th>2</th>\n",
              "      <td>7.2574</td>\n",
              "      <td>52.0</td>\n",
              "      <td>8.288136</td>\n",
              "      <td>1.073446</td>\n",
              "      <td>496.0</td>\n",
              "      <td>2.802260</td>\n",
              "      <td>37.85</td>\n",
              "      <td>-122.24</td>\n",
              "    </tr>\n",
              "    <tr>\n",
              "      <th>3</th>\n",
              "      <td>5.6431</td>\n",
              "      <td>52.0</td>\n",
              "      <td>5.817352</td>\n",
              "      <td>1.073059</td>\n",
              "      <td>558.0</td>\n",
              "      <td>2.547945</td>\n",
              "      <td>37.85</td>\n",
              "      <td>-122.25</td>\n",
              "    </tr>\n",
              "    <tr>\n",
              "      <th>4</th>\n",
              "      <td>3.8462</td>\n",
              "      <td>52.0</td>\n",
              "      <td>6.281853</td>\n",
              "      <td>1.081081</td>\n",
              "      <td>565.0</td>\n",
              "      <td>2.181467</td>\n",
              "      <td>37.85</td>\n",
              "      <td>-122.25</td>\n",
              "    </tr>\n",
              "    <tr>\n",
              "      <th>...</th>\n",
              "      <td>...</td>\n",
              "      <td>...</td>\n",
              "      <td>...</td>\n",
              "      <td>...</td>\n",
              "      <td>...</td>\n",
              "      <td>...</td>\n",
              "      <td>...</td>\n",
              "      <td>...</td>\n",
              "    </tr>\n",
              "    <tr>\n",
              "      <th>20635</th>\n",
              "      <td>1.5603</td>\n",
              "      <td>25.0</td>\n",
              "      <td>5.045455</td>\n",
              "      <td>1.133333</td>\n",
              "      <td>845.0</td>\n",
              "      <td>2.560606</td>\n",
              "      <td>39.48</td>\n",
              "      <td>-121.09</td>\n",
              "    </tr>\n",
              "    <tr>\n",
              "      <th>20636</th>\n",
              "      <td>2.5568</td>\n",
              "      <td>18.0</td>\n",
              "      <td>6.114035</td>\n",
              "      <td>1.315789</td>\n",
              "      <td>356.0</td>\n",
              "      <td>3.122807</td>\n",
              "      <td>39.49</td>\n",
              "      <td>-121.21</td>\n",
              "    </tr>\n",
              "    <tr>\n",
              "      <th>20637</th>\n",
              "      <td>1.7000</td>\n",
              "      <td>17.0</td>\n",
              "      <td>5.205543</td>\n",
              "      <td>1.120092</td>\n",
              "      <td>1007.0</td>\n",
              "      <td>2.325635</td>\n",
              "      <td>39.43</td>\n",
              "      <td>-121.22</td>\n",
              "    </tr>\n",
              "    <tr>\n",
              "      <th>20638</th>\n",
              "      <td>1.8672</td>\n",
              "      <td>18.0</td>\n",
              "      <td>5.329513</td>\n",
              "      <td>1.171920</td>\n",
              "      <td>741.0</td>\n",
              "      <td>2.123209</td>\n",
              "      <td>39.43</td>\n",
              "      <td>-121.32</td>\n",
              "    </tr>\n",
              "    <tr>\n",
              "      <th>20639</th>\n",
              "      <td>2.3886</td>\n",
              "      <td>16.0</td>\n",
              "      <td>5.254717</td>\n",
              "      <td>1.162264</td>\n",
              "      <td>1387.0</td>\n",
              "      <td>2.616981</td>\n",
              "      <td>39.37</td>\n",
              "      <td>-121.24</td>\n",
              "    </tr>\n",
              "  </tbody>\n",
              "</table>\n",
              "<p>20640 rows × 8 columns</p>\n",
              "</div>\n",
              "      <button class=\"colab-df-convert\" onclick=\"convertToInteractive('df-7f04338f-4d1d-46dc-821c-7c8d6387a555')\"\n",
              "              title=\"Convert this dataframe to an interactive table.\"\n",
              "              style=\"display:none;\">\n",
              "        \n",
              "  <svg xmlns=\"http://www.w3.org/2000/svg\" height=\"24px\"viewBox=\"0 0 24 24\"\n",
              "       width=\"24px\">\n",
              "    <path d=\"M0 0h24v24H0V0z\" fill=\"none\"/>\n",
              "    <path d=\"M18.56 5.44l.94 2.06.94-2.06 2.06-.94-2.06-.94-.94-2.06-.94 2.06-2.06.94zm-11 1L8.5 8.5l.94-2.06 2.06-.94-2.06-.94L8.5 2.5l-.94 2.06-2.06.94zm10 10l.94 2.06.94-2.06 2.06-.94-2.06-.94-.94-2.06-.94 2.06-2.06.94z\"/><path d=\"M17.41 7.96l-1.37-1.37c-.4-.4-.92-.59-1.43-.59-.52 0-1.04.2-1.43.59L10.3 9.45l-7.72 7.72c-.78.78-.78 2.05 0 2.83L4 21.41c.39.39.9.59 1.41.59.51 0 1.02-.2 1.41-.59l7.78-7.78 2.81-2.81c.8-.78.8-2.07 0-2.86zM5.41 20L4 18.59l7.72-7.72 1.47 1.35L5.41 20z\"/>\n",
              "  </svg>\n",
              "      </button>\n",
              "      \n",
              "  <style>\n",
              "    .colab-df-container {\n",
              "      display:flex;\n",
              "      flex-wrap:wrap;\n",
              "      gap: 12px;\n",
              "    }\n",
              "\n",
              "    .colab-df-convert {\n",
              "      background-color: #E8F0FE;\n",
              "      border: none;\n",
              "      border-radius: 50%;\n",
              "      cursor: pointer;\n",
              "      display: none;\n",
              "      fill: #1967D2;\n",
              "      height: 32px;\n",
              "      padding: 0 0 0 0;\n",
              "      width: 32px;\n",
              "    }\n",
              "\n",
              "    .colab-df-convert:hover {\n",
              "      background-color: #E2EBFA;\n",
              "      box-shadow: 0px 1px 2px rgba(60, 64, 67, 0.3), 0px 1px 3px 1px rgba(60, 64, 67, 0.15);\n",
              "      fill: #174EA6;\n",
              "    }\n",
              "\n",
              "    [theme=dark] .colab-df-convert {\n",
              "      background-color: #3B4455;\n",
              "      fill: #D2E3FC;\n",
              "    }\n",
              "\n",
              "    [theme=dark] .colab-df-convert:hover {\n",
              "      background-color: #434B5C;\n",
              "      box-shadow: 0px 1px 3px 1px rgba(0, 0, 0, 0.15);\n",
              "      filter: drop-shadow(0px 1px 2px rgba(0, 0, 0, 0.3));\n",
              "      fill: #FFFFFF;\n",
              "    }\n",
              "  </style>\n",
              "\n",
              "      <script>\n",
              "        const buttonEl =\n",
              "          document.querySelector('#df-7f04338f-4d1d-46dc-821c-7c8d6387a555 button.colab-df-convert');\n",
              "        buttonEl.style.display =\n",
              "          google.colab.kernel.accessAllowed ? 'block' : 'none';\n",
              "\n",
              "        async function convertToInteractive(key) {\n",
              "          const element = document.querySelector('#df-7f04338f-4d1d-46dc-821c-7c8d6387a555');\n",
              "          const dataTable =\n",
              "            await google.colab.kernel.invokeFunction('convertToInteractive',\n",
              "                                                     [key], {});\n",
              "          if (!dataTable) return;\n",
              "\n",
              "          const docLinkHtml = 'Like what you see? Visit the ' +\n",
              "            '<a target=\"_blank\" href=https://colab.research.google.com/notebooks/data_table.ipynb>data table notebook</a>'\n",
              "            + ' to learn more about interactive tables.';\n",
              "          element.innerHTML = '';\n",
              "          dataTable['output_type'] = 'display_data';\n",
              "          await google.colab.output.renderOutput(dataTable, element);\n",
              "          const docLink = document.createElement('div');\n",
              "          docLink.innerHTML = docLinkHtml;\n",
              "          element.appendChild(docLink);\n",
              "        }\n",
              "      </script>\n",
              "    </div>\n",
              "  </div>\n",
              "  "
            ]
          },
          "metadata": {},
          "execution_count": 173
        }
      ]
    },
    {
      "cell_type": "markdown",
      "source": [
        "## 1. Вводная\n",
        "\n",
        "В этом пункте вспомним, что такое веса в линейной модели."
      ],
      "metadata": {
        "id": "sjaTkyQWTR6y"
      }
    },
    {
      "cell_type": "markdown",
      "metadata": {
        "id": "IjDfPqP9vmJl"
      },
      "source": [
        "### 1.1 Сколько будет обучено свободных весов \n",
        "\n",
        "Посчитайте, сколько будет создано свободных весов в модели линейная регрессия."
      ]
    },
    {
      "cell_type": "code",
      "source": [
        "1"
      ],
      "metadata": {
        "id": "SuJQq2_bNiZh",
        "outputId": "0dd3c09c-58d8-4c49-aa3d-ea2b5c293fe3",
        "colab": {
          "base_uri": "https://localhost:8080/"
        }
      },
      "execution_count": 174,
      "outputs": [
        {
          "output_type": "execute_result",
          "data": {
            "text/plain": [
              "1"
            ]
          },
          "metadata": {},
          "execution_count": 174
        }
      ]
    },
    {
      "cell_type": "markdown",
      "source": [
        "### 1.2 Сколько будет обучено весов при признаках\n",
        "\n",
        "Посчитайте, сколько будет создано весов при признаках при обучении линейно модели."
      ],
      "metadata": {
        "id": "3w2j3isXQ1Cj"
      }
    },
    {
      "cell_type": "code",
      "source": [
        "# Ваш код здесь\n",
        "X.shape[1]"
      ],
      "metadata": {
        "id": "qdrNfsc6P1Z1",
        "outputId": "9d022116-e62d-44a4-a4bb-5bdddac9fe3c",
        "colab": {
          "base_uri": "https://localhost:8080/"
        }
      },
      "execution_count": 175,
      "outputs": [
        {
          "output_type": "execute_result",
          "data": {
            "text/plain": [
              "8"
            ]
          },
          "metadata": {},
          "execution_count": 175
        }
      ]
    },
    {
      "cell_type": "markdown",
      "source": [
        "### 1.3 Обучите линейную модель для предсказания стоимости"
      ],
      "metadata": {
        "id": "cglHq-snTMFD"
      }
    },
    {
      "cell_type": "code",
      "source": [
        "\n",
        "from sklearn.linear_model import LinearRegression\n",
        "model = LinearRegression()\n",
        "model.fit(X,y)\n"
      ],
      "metadata": {
        "id": "dCos-hKFTYfr",
        "outputId": "661cbc1a-2003-460b-da8c-f0d50a5911f9",
        "colab": {
          "base_uri": "https://localhost:8080/"
        }
      },
      "execution_count": 176,
      "outputs": [
        {
          "output_type": "execute_result",
          "data": {
            "text/plain": [
              "LinearRegression(copy_X=True, fit_intercept=True, n_jobs=None, normalize=False)"
            ]
          },
          "metadata": {},
          "execution_count": 176
        }
      ]
    },
    {
      "cell_type": "markdown",
      "source": [
        "### 1.4 Посмотрите, сколько весов вышло и сравните с вашими ответами"
      ],
      "metadata": {
        "id": "qblDKfT7jIpu"
      }
    },
    {
      "cell_type": "code",
      "source": [
        "# Ваш код здесь\n",
        "model.coef_"
      ],
      "metadata": {
        "id": "P35MwqlJjIpv",
        "outputId": "2106f6c7-8be7-49a3-e4aa-a33ac86ac3c4",
        "colab": {
          "base_uri": "https://localhost:8080/"
        }
      },
      "execution_count": 177,
      "outputs": [
        {
          "output_type": "execute_result",
          "data": {
            "text/plain": [
              "array([ 4.36693293e-01,  9.43577803e-03, -1.07322041e-01,  6.45065694e-01,\n",
              "       -3.97638942e-06, -3.78654265e-03, -4.21314378e-01, -4.34513755e-01])"
            ]
          },
          "metadata": {},
          "execution_count": 177
        }
      ]
    },
    {
      "cell_type": "code",
      "source": [
        "model.intercept_"
      ],
      "metadata": {
        "id": "lY14us0ZHkB_",
        "outputId": "8995e567-be40-46d5-95a4-f0521e9cbc5e",
        "colab": {
          "base_uri": "https://localhost:8080/"
        }
      },
      "execution_count": 178,
      "outputs": [
        {
          "output_type": "execute_result",
          "data": {
            "text/plain": [
              "-36.94192020718441"
            ]
          },
          "metadata": {},
          "execution_count": 178
        }
      ]
    },
    {
      "cell_type": "markdown",
      "source": [
        "## 2. Получение предсказаний линейной модели\n",
        "\n",
        "В этом пункте вспомним, как получать предсказания линейной моделью."
      ],
      "metadata": {
        "id": "1rI2jWSaWDRB"
      }
    },
    {
      "cell_type": "markdown",
      "source": [
        "### 2.1 Получите предсказание для одного объекта через метод модели"
      ],
      "metadata": {
        "id": "jsRBzo7VVYht"
      }
    },
    {
      "cell_type": "code",
      "source": [
        "# Ваш код здесь\n",
        "model.predict(X)"
      ],
      "metadata": {
        "id": "NmugPXD1QLab",
        "outputId": "4c8d764a-a29d-4260-8ead-04ee55fef787",
        "colab": {
          "base_uri": "https://localhost:8080/"
        }
      },
      "execution_count": 179,
      "outputs": [
        {
          "output_type": "execute_result",
          "data": {
            "text/plain": [
              "array([4.13164983, 3.97660644, 3.67657094, ..., 0.17125141, 0.31910524,\n",
              "       0.51580363])"
            ]
          },
          "metadata": {},
          "execution_count": 179
        }
      ]
    },
    {
      "cell_type": "markdown",
      "source": [
        "### 2.2 Получите предсказание для одного объекта через полученные веса"
      ],
      "metadata": {
        "id": "ZlrJjwJNVqpC"
      }
    },
    {
      "cell_type": "code",
      "source": [
        "# Ваш код здесь\n",
        "np.sum(model.coef_ * X[:1].values) + model.intercept_"
      ],
      "metadata": {
        "id": "MqY5SBg3RkmB",
        "outputId": "b43cdd1a-a538-41ae-e98c-b6e93d2c3b6d",
        "colab": {
          "base_uri": "https://localhost:8080/"
        }
      },
      "execution_count": 180,
      "outputs": [
        {
          "output_type": "execute_result",
          "data": {
            "text/plain": [
              "4.13164982707675"
            ]
          },
          "metadata": {},
          "execution_count": 180
        }
      ]
    },
    {
      "cell_type": "markdown",
      "source": [
        "### 2.3 Посмотрите ошибку MSE на предсказаниях модели"
      ],
      "metadata": {
        "id": "2_uBmvsI_LpR"
      }
    },
    {
      "cell_type": "code",
      "source": [
        "# Ваш код здесь\n",
        "from sklearn.metrics import mean_squared_error\n",
        "mean_squared_error(y, model.predict(X))"
      ],
      "metadata": {
        "id": "rLis2TOu_QQe",
        "outputId": "19701369-e34e-469e-880b-fa0db5daa760",
        "colab": {
          "base_uri": "https://localhost:8080/"
        }
      },
      "execution_count": 181,
      "outputs": [
        {
          "output_type": "execute_result",
          "data": {
            "text/plain": [
              "0.5243209861846072"
            ]
          },
          "metadata": {},
          "execution_count": 181
        }
      ]
    },
    {
      "cell_type": "markdown",
      "source": [
        "## 3. Визуализация линейной модели\n",
        "\n",
        "В этом пункте провизуализируем линейную модель для одного признака."
      ],
      "metadata": {
        "id": "vP2ZwM5wWIzK"
      }
    },
    {
      "cell_type": "markdown",
      "source": [
        "### 3.1. Возьмите только один первый признак из данных и первые 1000 объектов\n",
        "\n",
        "Назовите данный датафрейм `small_X`, а истинные значения `small_y`"
      ],
      "metadata": {
        "id": "PmUhYkiVkoft"
      }
    },
    {
      "cell_type": "code",
      "source": [
        "# Ваш код здесь\n",
        "small_X = X[['MedInc']].iloc[:1000]\n",
        "small_y = y[:1000]\n"
      ],
      "metadata": {
        "id": "HngnietJWN3z"
      },
      "execution_count": 182,
      "outputs": []
    },
    {
      "cell_type": "markdown",
      "source": [
        "### 3.2. Обучите на этих данных линейную модель"
      ],
      "metadata": {
        "id": "HCs9Z8KIlMsN"
      }
    },
    {
      "cell_type": "code",
      "source": [
        "# Ваш код здесь\n",
        "model.fit(small_X,small_y)"
      ],
      "metadata": {
        "id": "qkU_ZLSilXxj",
        "outputId": "eba2c2b8-937b-473a-aae2-ec3e3f7916e9",
        "colab": {
          "base_uri": "https://localhost:8080/"
        }
      },
      "execution_count": 183,
      "outputs": [
        {
          "output_type": "execute_result",
          "data": {
            "text/plain": [
              "LinearRegression(copy_X=True, fit_intercept=True, n_jobs=None, normalize=False)"
            ]
          },
          "metadata": {},
          "execution_count": 183
        }
      ]
    },
    {
      "cell_type": "markdown",
      "source": [
        "### 3.3. Отобразите на графике обученную линейную регрессию\n",
        "\n",
        "Добавьте на график точки из обучения в виде точечного графика"
      ],
      "metadata": {
        "id": "gTyJpRT0xyHj"
      }
    },
    {
      "cell_type": "code",
      "source": [
        "# Ваш код здесь\n",
        "import matplotlib.pyplot as plt\n",
        "plt.figure(figsize=(10,7))\n",
        "x = np.arange(0,13)\n",
        "model_line = model.coef_*x+model.intercept_\n",
        "\n",
        "plt.plot(x,model_line, '-r')\n",
        "plt.scatter(small_X,small_y)\n",
        "plt.grid()\n"
      ],
      "metadata": {
        "id": "URwOlPlEx2Vu",
        "outputId": "efcff293-46de-4a9b-8253-baa30793a291",
        "colab": {
          "base_uri": "https://localhost:8080/",
          "height": 0
        }
      },
      "execution_count": 184,
      "outputs": [
        {
          "output_type": "display_data",
          "data": {
            "text/plain": [
              "<Figure size 720x504 with 1 Axes>"
            ],
            "image/png": "[encoded data removed]"
          },
          "metadata": {
            "needs_background": "light"
          }
        }
      ]
    },
    {
      "cell_type": "markdown",
      "source": [
        "### 3.4 Посмотрите ошибку MSE на предсказаниях модели"
      ],
      "metadata": {
        "id": "uQYY-bXrCYwy"
      }
    },
    {
      "cell_type": "code",
      "source": [
        "# Ваш код здесь\n",
        "mean_squared_error(small_y,model.predict(small_X))\n"
      ],
      "metadata": {
        "id": "gYG_QNb9CYw9",
        "outputId": "659a202a-9f30-4abd-e8f5-b66f692ba62c",
        "colab": {
          "base_uri": "https://localhost:8080/"
        }
      },
      "execution_count": 185,
      "outputs": [
        {
          "output_type": "execute_result",
          "data": {
            "text/plain": [
              "0.32656055110726806"
            ]
          },
          "metadata": {},
          "execution_count": 185
        }
      ]
    },
    {
      "cell_type": "markdown",
      "source": [
        "## 4. Градиентный спуск\n",
        "\n",
        "В этом пункте реализуем свой градиентный спуск. "
      ],
      "metadata": {
        "id": "_pLzZ9K9z4Rv"
      }
    },
    {
      "cell_type": "markdown",
      "source": [
        "### 4.1. Найдите градиент функции $z = 2x + y^2$"
      ],
      "metadata": {
        "id": "49A1P32o0YqT"
      }
    },
    {
      "cell_type": "markdown",
      "source": [
        "\n",
        "\n",
        "```\n",
        "# This is formatted as code\n",
        "```\n",
        "\n",
        "Ваш градиент здесь\n",
        "x+2y\n"
      ],
      "metadata": {
        "id": "qN4TQ6zp0p8R"
      }
    },
    {
      "cell_type": "markdown",
      "source": [
        "### 4.2. Реализуйте функцию для подсчета $z = 0.25 x^2 + 5$"
      ],
      "metadata": {
        "id": "1CnR9GpK1X0p"
      }
    },
    {
      "cell_type": "code",
      "source": [
        "# Ваш код здесь\n",
        "def z_func(x):\n",
        "  z = 0.25*x**2+5\n",
        "  return z"
      ],
      "metadata": {
        "id": "DGKemmkM1fDt"
      },
      "execution_count": 186,
      "outputs": []
    },
    {
      "cell_type": "markdown",
      "source": [
        "### 4.3. Реализуйте функцию для подсчета градиента $z = 0.25 x^2 + 5$"
      ],
      "metadata": {
        "id": "TBt8RFIM1gxF"
      }
    },
    {
      "cell_type": "code",
      "source": [
        "# Ваш код здесь\n",
        "def z_func_grad(x):\n",
        "  z = 0.5*x\n",
        "  return z"
      ],
      "metadata": {
        "id": "Pj-kqu1r1thj"
      },
      "execution_count": 187,
      "outputs": []
    },
    {
      "cell_type": "markdown",
      "source": [
        "### 4.4. Отрисуйте на графике функцию из пункта 4.2."
      ],
      "metadata": {
        "id": "j-dKNGOF1zAg"
      }
    },
    {
      "cell_type": "code",
      "source": [
        "# Ваш код здесь\n",
        "import matplotlib.pyplot as plt\n",
        "plt.figure(figsize = (10,15))\n",
        "x = np.arange(-20,21)\n",
        "plt.plot(x,z_func(x), '-r')\n",
        "plt.show"
      ],
      "metadata": {
        "id": "mowyh2Oz1zYD",
        "outputId": "6bd9ebc1-0c7e-4e48-ad5d-3cb3e7ed4277",
        "colab": {
          "base_uri": "https://localhost:8080/",
          "height": 0
        }
      },
      "execution_count": 188,
      "outputs": [
        {
          "output_type": "execute_result",
          "data": {
            "text/plain": [
              "<function matplotlib.pyplot.show(*args, **kw)>"
            ]
          },
          "metadata": {},
          "execution_count": 188
        },
        {
          "output_type": "display_data",
          "data": {
            "text/plain": [
              "<Figure size 720x1080 with 1 Axes>"
            ],
            "image/png": "[encoded data removed]"
          },
          "metadata": {
            "needs_background": "light"
          }
        }
      ]
    },
    {
      "cell_type": "markdown",
      "source": [
        "### 4.5. Задайте начальную точку равную -15 и посчитайте в ней градиент"
      ],
      "metadata": {
        "id": "K9G6aZfC3eZk"
      }
    },
    {
      "cell_type": "code",
      "source": [
        "# Ваш код здесь\n",
        "start_point = -15\n",
        "grad = z_func_grad(start_point)\n",
        "grad"
      ],
      "metadata": {
        "id": "-vBH6Sdm3ncv",
        "outputId": "2fee4603-44d1-4a2f-b388-f96a1264db89",
        "colab": {
          "base_uri": "https://localhost:8080/"
        }
      },
      "execution_count": 189,
      "outputs": [
        {
          "output_type": "execute_result",
          "data": {
            "text/plain": [
              "-7.5"
            ]
          },
          "metadata": {},
          "execution_count": 189
        }
      ]
    },
    {
      "cell_type": "markdown",
      "source": [
        "### 4.5. Сделайте один шаг градиентного спуска и получите следующую точку для подсчета градиента"
      ],
      "metadata": {
        "id": "MVUXfvLI33Wu"
      }
    },
    {
      "cell_type": "code",
      "source": [
        "# Ваш код здесь\n",
        "lerning_rate = 0.1\n",
        "curent_point = start_point\n",
        "next_point = curent_point-grad\n",
        "next_point\n"
      ],
      "metadata": {
        "id": "UeCxxkdR3pDi",
        "outputId": "acab7c69-1549-4f3b-a1f2-8c4b46da4b59",
        "colab": {
          "base_uri": "https://localhost:8080/"
        }
      },
      "execution_count": 190,
      "outputs": [
        {
          "output_type": "execute_result",
          "data": {
            "text/plain": [
              "-7.5"
            ]
          },
          "metadata": {},
          "execution_count": 190
        }
      ]
    },
    {
      "cell_type": "markdown",
      "source": [
        "### 4.6. Оформите цикл из 10 шагов градиентного спуска"
      ],
      "metadata": {
        "id": "ROjtddm24KSh"
      }
    },
    {
      "cell_type": "code",
      "source": [
        "# Ваш код здесь\n",
        "# ex = 0.1\n",
        "# diff = 1\n",
        "start_point = -15\n",
        "# lerning_rate = 0.1\n",
        "next_point = start_point\n",
        "points = []\n",
        "points.append(next_point)\n",
        "n=10\n",
        "for i in range(n):\n",
        "    current_point=next_point\n",
        "    next_point = current_point - z_func_grad(current_point)\n",
        "    points.append(next_point)\n",
        "    print(points)\n",
        "\n"
      ],
      "metadata": {
        "id": "CuCdGdcC3pde",
        "outputId": "0706ddff-683e-4259-adb6-4b65d0308382",
        "colab": {
          "base_uri": "https://localhost:8080/"
        }
      },
      "execution_count": 191,
      "outputs": [
        {
          "output_type": "stream",
          "name": "stdout",
          "text": [
            "[-15, -7.5]\n",
            "[-15, -7.5, -3.75]\n",
            "[-15, -7.5, -3.75, -1.875]\n",
            "[-15, -7.5, -3.75, -1.875, -0.9375]\n",
            "[-15, -7.5, -3.75, -1.875, -0.9375, -0.46875]\n",
            "[-15, -7.5, -3.75, -1.875, -0.9375, -0.46875, -0.234375]\n",
            "[-15, -7.5, -3.75, -1.875, -0.9375, -0.46875, -0.234375, -0.1171875]\n",
            "[-15, -7.5, -3.75, -1.875, -0.9375, -0.46875, -0.234375, -0.1171875, -0.05859375]\n",
            "[-15, -7.5, -3.75, -1.875, -0.9375, -0.46875, -0.234375, -0.1171875, -0.05859375, -0.029296875]\n",
            "[-15, -7.5, -3.75, -1.875, -0.9375, -0.46875, -0.234375, -0.1171875, -0.05859375, -0.029296875, -0.0146484375]\n"
          ]
        }
      ]
    },
    {
      "cell_type": "markdown",
      "source": [
        "### 4.7. Визуализируйте шаги градиентного спуска на графике\n",
        "\n",
        "Так же отрисуйте исходную функцию."
      ],
      "metadata": {
        "id": "9KcBcMEu44BW"
      }
    },
    {
      "cell_type": "code",
      "source": [
        "from pandas.core.indexes.datetimelike import Label\n",
        "# Ваш код здесь\n",
        "import matplotlib.pyplot as plt\n",
        "plt.figure(figsize=(12,10))\n",
        "\n",
        "D= 30\n",
        "x = np.linspace(-D,+D)\n",
        "y = 0.25*x**2+5\n",
        "plt.plot(x,y, '-r', Label = 'y(x)')\n",
        "X_grad = np.array(points)\n",
        "plt.plot(X_grad,z_func(X_grad),'-*g', label = '-grad')\n",
        "plt.grid()\n",
        "plt.xlabel('X')\n",
        "plt.ylabel('Y')\n",
        "plt.legend()\n",
        "plt.show()\n"
      ],
      "metadata": {
        "id": "VOlvAISL4vKy",
        "outputId": "5f5eb3b9-71c1-4c52-a6d4-09fb197ab324",
        "colab": {
          "base_uri": "https://localhost:8080/",
          "height": 0
        }
      },
      "execution_count": 192,
      "outputs": [
        {
          "output_type": "display_data",
          "data": {
            "text/plain": [
              "<Figure size 864x720 with 1 Axes>"
            ],
            "image/png": "[encoded data removed]"
          },
          "metadata": {
            "needs_background": "light"
          }
        }
      ]
    },
    {
      "cell_type": "markdown",
      "source": [
        "## 5. Многомерная линейная регрессия\n",
        "\n",
        "В это пункте реализуем свою линейную регрессию для датафрейма small_X"
      ],
      "metadata": {
        "id": "Lq3HO0GQz6-Y"
      }
    },
    {
      "cell_type": "markdown",
      "source": [
        "#### 5.1 Реализуйте функцию для подсчета MSE\n",
        "\n",
        "Функция на вход принимает матрицу `X`, вектор весов `w` и истинные значения `y` "
      ],
      "metadata": {
        "id": "O3ITXtDo0I0M"
      }
    },
    {
      "cell_type": "code",
      "source": [
        "# Ваш код здесь\n",
        "def mse(X, w, y):\n",
        "    pred = X @ w\n",
        "    return np.mean((y - pred) ** 2)"
      ],
      "metadata": {
        "id": "_W1b1D0w8js5"
      },
      "execution_count": 193,
      "outputs": []
    },
    {
      "cell_type": "markdown",
      "source": [
        "#### 5.2 Реализуйте функцию для подсчета градиента MSE\n",
        "\n",
        "\n",
        "\n",
        "\n",
        "Функция на вход принимает матрицу `X`, вектор весов `w` и истинные значения `y`."
      ],
      "metadata": {
        "id": "p_QmTJW10Qqf"
      }
    },
    {
      "cell_type": "code",
      "source": [
        "# Ваш код здесь\n",
        "def grad_mse(X,w,y):\n",
        "  pred = X @ w\n",
        "  return 2/len(X)*((y-pred)@(-X))\n"
      ],
      "metadata": {
        "id": "c_3U5PTp8kJK"
      },
      "execution_count": 194,
      "outputs": []
    },
    {
      "cell_type": "markdown",
      "source": [
        "#### 5.3 Инициализируйте веса для признаков\n",
        "\n",
        "Вспомните и про свободный вес, что нужно сделать с данными, чтобы свободный вес не стоял отдельно."
      ],
      "metadata": {
        "id": "k7wvl_t78_xO"
      }
    },
    {
      "cell_type": "code",
      "source": [
        "# Ваш код здесь\n",
        "small_X ['for intercept'] = 1\n",
        "\n",
        "small_X. head(3)"
      ],
      "metadata": {
        "id": "xFCN0SJw8kiH",
        "outputId": "d00a218e-8d8d-44fc-bf5a-ee418056ece9",
        "colab": {
          "base_uri": "https://localhost:8080/",
          "height": 144
        }
      },
      "execution_count": 195,
      "outputs": [
        {
          "output_type": "execute_result",
          "data": {
            "text/plain": [
              "   MedInc  for intercept\n",
              "0  8.3252              1\n",
              "1  8.3014              1\n",
              "2  7.2574              1"
            ],
            "text/html": [
              "\n",
              "  <div id=\"df-9cb4596c-99d6-4b6c-b951-bcaeda416dd1\">\n",
              "    <div class=\"colab-df-container\">\n",
              "      <div>\n",
              "<style scoped>\n",
              "    .dataframe tbody tr th:only-of-type {\n",
              "        vertical-align: middle;\n",
              "    }\n",
              "\n",
              "    .dataframe tbody tr th {\n",
              "        vertical-align: top;\n",
              "    }\n",
              "\n",
              "    .dataframe thead th {\n",
              "        text-align: right;\n",
              "    }\n",
              "</style>\n",
              "<table border=\"1\" class=\"dataframe\">\n",
              "  <thead>\n",
              "    <tr style=\"text-align: right;\">\n",
              "      <th></th>\n",
              "      <th>MedInc</th>\n",
              "      <th>for intercept</th>\n",
              "    </tr>\n",
              "  </thead>\n",
              "  <tbody>\n",
              "    <tr>\n",
              "      <th>0</th>\n",
              "      <td>8.3252</td>\n",
              "      <td>1</td>\n",
              "    </tr>\n",
              "    <tr>\n",
              "      <th>1</th>\n",
              "      <td>8.3014</td>\n",
              "      <td>1</td>\n",
              "    </tr>\n",
              "    <tr>\n",
              "      <th>2</th>\n",
              "      <td>7.2574</td>\n",
              "      <td>1</td>\n",
              "    </tr>\n",
              "  </tbody>\n",
              "</table>\n",
              "</div>\n",
              "      <button class=\"colab-df-convert\" onclick=\"convertToInteractive('df-9cb4596c-99d6-4b6c-b951-bcaeda416dd1')\"\n",
              "              title=\"Convert this dataframe to an interactive table.\"\n",
              "              style=\"display:none;\">\n",
              "        \n",
              "  <svg xmlns=\"http://www.w3.org/2000/svg\" height=\"24px\"viewBox=\"0 0 24 24\"\n",
              "       width=\"24px\">\n",
              "    <path d=\"M0 0h24v24H0V0z\" fill=\"none\"/>\n",
              "    <path d=\"M18.56 5.44l.94 2.06.94-2.06 2.06-.94-2.06-.94-.94-2.06-.94 2.06-2.06.94zm-11 1L8.5 8.5l.94-2.06 2.06-.94-2.06-.94L8.5 2.5l-.94 2.06-2.06.94zm10 10l.94 2.06.94-2.06 2.06-.94-2.06-.94-.94-2.06-.94 2.06-2.06.94z\"/><path d=\"M17.41 7.96l-1.37-1.37c-.4-.4-.92-.59-1.43-.59-.52 0-1.04.2-1.43.59L10.3 9.45l-7.72 7.72c-.78.78-.78 2.05 0 2.83L4 21.41c.39.39.9.59 1.41.59.51 0 1.02-.2 1.41-.59l7.78-7.78 2.81-2.81c.8-.78.8-2.07 0-2.86zM5.41 20L4 18.59l7.72-7.72 1.47 1.35L5.41 20z\"/>\n",
              "  </svg>\n",
              "      </button>\n",
              "      \n",
              "  <style>\n",
              "    .colab-df-container {\n",
              "      display:flex;\n",
              "      flex-wrap:wrap;\n",
              "      gap: 12px;\n",
              "    }\n",
              "\n",
              "    .colab-df-convert {\n",
              "      background-color: #E8F0FE;\n",
              "      border: none;\n",
              "      border-radius: 50%;\n",
              "      cursor: pointer;\n",
              "      display: none;\n",
              "      fill: #1967D2;\n",
              "      height: 32px;\n",
              "      padding: 0 0 0 0;\n",
              "      width: 32px;\n",
              "    }\n",
              "\n",
              "    .colab-df-convert:hover {\n",
              "      background-color: #E2EBFA;\n",
              "      box-shadow: 0px 1px 2px rgba(60, 64, 67, 0.3), 0px 1px 3px 1px rgba(60, 64, 67, 0.15);\n",
              "      fill: #174EA6;\n",
              "    }\n",
              "\n",
              "    [theme=dark] .colab-df-convert {\n",
              "      background-color: #3B4455;\n",
              "      fill: #D2E3FC;\n",
              "    }\n",
              "\n",
              "    [theme=dark] .colab-df-convert:hover {\n",
              "      background-color: #434B5C;\n",
              "      box-shadow: 0px 1px 3px 1px rgba(0, 0, 0, 0.15);\n",
              "      filter: drop-shadow(0px 1px 2px rgba(0, 0, 0, 0.3));\n",
              "      fill: #FFFFFF;\n",
              "    }\n",
              "  </style>\n",
              "\n",
              "      <script>\n",
              "        const buttonEl =\n",
              "          document.querySelector('#df-9cb4596c-99d6-4b6c-b951-bcaeda416dd1 button.colab-df-convert');\n",
              "        buttonEl.style.display =\n",
              "          google.colab.kernel.accessAllowed ? 'block' : 'none';\n",
              "\n",
              "        async function convertToInteractive(key) {\n",
              "          const element = document.querySelector('#df-9cb4596c-99d6-4b6c-b951-bcaeda416dd1');\n",
              "          const dataTable =\n",
              "            await google.colab.kernel.invokeFunction('convertToInteractive',\n",
              "                                                     [key], {});\n",
              "          if (!dataTable) return;\n",
              "\n",
              "          const docLinkHtml = 'Like what you see? Visit the ' +\n",
              "            '<a target=\"_blank\" href=https://colab.research.google.com/notebooks/data_table.ipynb>data table notebook</a>'\n",
              "            + ' to learn more about interactive tables.';\n",
              "          element.innerHTML = '';\n",
              "          dataTable['output_type'] = 'display_data';\n",
              "          await google.colab.output.renderOutput(dataTable, element);\n",
              "          const docLink = document.createElement('div');\n",
              "          docLink.innerHTML = docLinkHtml;\n",
              "          element.appendChild(docLink);\n",
              "        }\n",
              "      </script>\n",
              "    </div>\n",
              "  </div>\n",
              "  "
            ]
          },
          "metadata": {},
          "execution_count": 195
        }
      ]
    },
    {
      "cell_type": "code",
      "source": [
        "weights = np.random.randn(small_X.shape[1])\n",
        "weights"
      ],
      "metadata": {
        "id": "GAf9c2mU36Yk",
        "outputId": "b301b5a4-4f18-479e-f72d-c6bd50c2a5dc",
        "colab": {
          "base_uri": "https://localhost:8080/"
        }
      },
      "execution_count": 202,
      "outputs": [
        {
          "output_type": "execute_result",
          "data": {
            "text/plain": [
              "array([-1.11628465, -0.2094976 ])"
            ]
          },
          "metadata": {},
          "execution_count": 202
        }
      ]
    },
    {
      "cell_type": "markdown",
      "source": [
        "#### 5.4 Запустить цикл обучения через градиентный спуск для линейной регрессии\n"
      ],
      "metadata": {
        "id": "qfRu9pvuFiXi"
      }
    },
    {
      "cell_type": "code",
      "source": [
        "#@title Подсказка 1\n",
        "# Вспомните про шаг обучения, если вам кажется, что он нужен\n",
        "lerning_rate= 0.1\n",
        "n = 1000\n",
        "learning_rate = 0.01\n",
        "next_weights = weights\n",
        "for i in range(n):\n",
        "  current_weights = next_weights\n",
        "  next_weights = current_weights - lerning_rate*grad_mse(small_X.values,current_weights, small_y)\n",
        "  if (i%100) == 0:\n",
        "     print(f\"Итерация: {i}\")\n",
        "     print(f\"MSE {mse(small_X.values, current_weights, small_y)}\")\n",
        "     print(\"--------------------------------------------------------\")\n"
      ],
      "metadata": {
        "id": "9Ovz2zQLFyw9",
        "outputId": "7dd01cf8-5f4b-44f1-c6ae-7836aabedc60",
        "colab": {
          "base_uri": "https://localhost:8080/"
        }
      },
      "execution_count": 209,
      "outputs": [
        {
          "output_type": "stream",
          "name": "stdout",
          "text": [
            "Итерация: 0\n",
            "MSE 51.12197836879109\n",
            "--------------------------------------------------------\n",
            "Итерация: 100\n",
            "MSE 2.203711751477199e+90\n",
            "--------------------------------------------------------\n",
            "Итерация: 200\n",
            "MSE 9.569565701156886e+178\n",
            "--------------------------------------------------------\n",
            "Итерация: 300\n",
            "MSE 4.155561073147367e+267\n",
            "--------------------------------------------------------\n",
            "Итерация: 400\n",
            "MSE inf\n",
            "--------------------------------------------------------\n",
            "Итерация: 500\n",
            "MSE inf\n",
            "--------------------------------------------------------\n",
            "Итерация: 600\n",
            "MSE inf\n",
            "--------------------------------------------------------\n",
            "Итерация: 700\n",
            "MSE nan\n",
            "--------------------------------------------------------\n",
            "Итерация: 800\n",
            "MSE nan\n",
            "--------------------------------------------------------\n",
            "Итерация: 900\n",
            "MSE nan\n",
            "--------------------------------------------------------\n"
          ]
        },
        {
          "output_type": "stream",
          "name": "stderr",
          "text": [
            "<ipython-input-193-671b20fa4ac4>:4: RuntimeWarning: overflow encountered in square\n",
            "  return np.mean((y - pred) ** 2)\n",
            "<ipython-input-194-28472012a7fa>:4: RuntimeWarning: overflow encountered in matmul\n",
            "  return 2/len(X)*((y-pred)@(-X))\n",
            "<ipython-input-209-3d33b22d0cf8>:9: RuntimeWarning: invalid value encountered in subtract\n",
            "  next_weights = current_weights - lerning_rate*grad_mse(small_X.values,current_weights, small_y)\n"
          ]
        }
      ]
    },
    {
      "cell_type": "code",
      "source": [
        "#@title Подсказка 2\n",
        "# Возможно потребуется больше итераций"
      ],
      "metadata": {
        "cellView": "form",
        "id": "z9oXsEP7F_9e"
      },
      "execution_count": 25,
      "outputs": []
    },
    {
      "cell_type": "code",
      "source": [
        "# Ваш код здесь\n"
      ],
      "metadata": {
        "id": "25Zcl2es8kzL"
      },
      "execution_count": 26,
      "outputs": []
    },
    {
      "cell_type": "markdown",
      "source": [
        "#### 5.5 Реализуйте критерий останова по ошибке\n",
        "\n",
        "Если ошибка с текущей итерации меньше, чем на следующей итерации, то можно выходить из цикла обучения\n"
      ],
      "metadata": {
        "id": "ZUtqaZZMGQYg"
      }
    },
    {
      "cell_type": "code",
      "source": [
        "# Ваш код здесь\n",
        "n = 10000\n",
        "learning_rate = 0.01\n",
        "next_weights = weights\n",
        "for i in range(n):\n",
        "  current_weights = next_weights\n",
        "  next_weights = current_weights - learning_rate*grad_mse(small_X.values,current_weights, small_y)  \n",
        "\n",
        "  if (i%100) == 0:\n",
        "     print(f\"Итерация: {i}\")\n",
        "     print(f\"MSE {mse(small_X.values, current_weights, small_y)}\")\n",
        "     print(\"--------------------------------------------------------\")\n",
        "\n",
        "  if mse(small_X.values, current_weights, small_y) < mse(small_X.values, next_weights, small_y):\n",
        "    break\n"
      ],
      "metadata": {
        "id": "FQioOUft8lCg",
        "outputId": "a85de2f2-8c8d-4dd0-ca5d-012b9c00d115",
        "colab": {
          "base_uri": "https://localhost:8080/"
        }
      },
      "execution_count": 226,
      "outputs": [
        {
          "output_type": "stream",
          "name": "stdout",
          "text": [
            "Итерация: 0\n",
            "MSE 51.12197836879109\n",
            "--------------------------------------------------------\n",
            "Итерация: 100\n",
            "MSE 0.3502963817212215\n",
            "--------------------------------------------------------\n",
            "Итерация: 200\n",
            "MSE 0.33839572937766044\n",
            "--------------------------------------------------------\n",
            "Итерация: 300\n",
            "MSE 0.3324618168758915\n",
            "--------------------------------------------------------\n",
            "Итерация: 400\n",
            "MSE 0.3295030448218787\n",
            "--------------------------------------------------------\n",
            "Итерация: 500\n",
            "MSE 0.3280277396054643\n",
            "--------------------------------------------------------\n",
            "Итерация: 600\n",
            "MSE 0.3272921217741995\n",
            "--------------------------------------------------------\n",
            "Итерация: 700\n",
            "MSE 0.3269253274406243\n",
            "--------------------------------------------------------\n",
            "Итерация: 800\n",
            "MSE 0.326742436165529\n",
            "--------------------------------------------------------\n",
            "Итерация: 900\n",
            "MSE 0.32665124277608937\n",
            "--------------------------------------------------------\n",
            "Итерация: 1000\n",
            "MSE 0.3266057718575168\n",
            "--------------------------------------------------------\n",
            "Итерация: 1100\n",
            "MSE 0.32658309911283057\n",
            "--------------------------------------------------------\n",
            "Итерация: 1200\n",
            "MSE 0.32657179401129005\n",
            "--------------------------------------------------------\n",
            "Итерация: 1300\n",
            "MSE 0.3265661570527915\n",
            "--------------------------------------------------------\n",
            "Итерация: 1400\n",
            "MSE 0.326563346348173\n",
            "--------------------------------------------------------\n",
            "Итерация: 1500\n",
            "MSE 0.3265619448724561\n",
            "--------------------------------------------------------\n",
            "Итерация: 1600\n",
            "MSE 0.32656124606754705\n",
            "--------------------------------------------------------\n",
            "Итерация: 1700\n",
            "MSE 0.3265608976289014\n",
            "--------------------------------------------------------\n",
            "Итерация: 1800\n",
            "MSE 0.32656072389015367\n",
            "--------------------------------------------------------\n",
            "Итерация: 1900\n",
            "MSE 0.3265606372604044\n",
            "--------------------------------------------------------\n",
            "Итерация: 2000\n",
            "MSE 0.32656059406501176\n",
            "--------------------------------------------------------\n",
            "Итерация: 2100\n",
            "MSE 0.3265605725268915\n",
            "--------------------------------------------------------\n",
            "Итерация: 2200\n",
            "MSE 0.32656056178753734\n",
            "--------------------------------------------------------\n",
            "Итерация: 2300\n",
            "MSE 0.32656055643267223\n",
            "--------------------------------------------------------\n",
            "Итерация: 2400\n",
            "MSE 0.3265605537626252\n",
            "--------------------------------------------------------\n",
            "Итерация: 2500\n",
            "MSE 0.3265605524312843\n",
            "--------------------------------------------------------\n",
            "Итерация: 2600\n",
            "MSE 0.3265605517674501\n",
            "--------------------------------------------------------\n",
            "Итерация: 2700\n",
            "MSE 0.32656055143644847\n",
            "--------------------------------------------------------\n",
            "Итерация: 2800\n",
            "MSE 0.32656055127140426\n",
            "--------------------------------------------------------\n",
            "Итерация: 2900\n",
            "MSE 0.32656055118910976\n",
            "--------------------------------------------------------\n",
            "Итерация: 3000\n",
            "MSE 0.3265605511480761\n",
            "--------------------------------------------------------\n",
            "Итерация: 3100\n",
            "MSE 0.3265605511276158\n",
            "--------------------------------------------------------\n",
            "Итерация: 3200\n",
            "MSE 0.3265605511174139\n",
            "--------------------------------------------------------\n",
            "Итерация: 3300\n",
            "MSE 0.3265605511123269\n",
            "--------------------------------------------------------\n",
            "Итерация: 3400\n",
            "MSE 0.3265605511097905\n",
            "--------------------------------------------------------\n",
            "Итерация: 3500\n",
            "MSE 0.32656055110852583\n",
            "--------------------------------------------------------\n",
            "Итерация: 3600\n",
            "MSE 0.3265605511078952\n",
            "--------------------------------------------------------\n",
            "Итерация: 3700\n",
            "MSE 0.32656055110758075\n",
            "--------------------------------------------------------\n",
            "Итерация: 3800\n",
            "MSE 0.326560551107424\n",
            "--------------------------------------------------------\n",
            "Итерация: 3900\n",
            "MSE 0.3265605511073458\n",
            "--------------------------------------------------------\n",
            "Итерация: 4000\n",
            "MSE 0.32656055110730675\n",
            "--------------------------------------------------------\n",
            "Итерация: 4100\n",
            "MSE 0.3265605511072874\n",
            "--------------------------------------------------------\n",
            "Итерация: 4200\n",
            "MSE 0.32656055110727766\n",
            "--------------------------------------------------------\n",
            "Итерация: 4300\n",
            "MSE 0.32656055110727283\n",
            "--------------------------------------------------------\n"
          ]
        }
      ]
    },
    {
      "cell_type": "markdown",
      "source": [
        "## Резюме \n",
        "\n",
        "Сегодня на практическом занятии:\n",
        "1. Узнали, какое количество весов нужно обучать для линейной модели\n",
        "2. Обучили модель линейной регрессии из sklearn\n",
        "3. Визуализировали линейную регрессию из sklearn\n",
        "4. Реализовали свой градиентный спуск для нахождения минимума функции\n",
        "5. Реализовали свою линейную регрессию с помощью градиентного спуска"
      ],
      "metadata": {
        "id": "VgBSMbZHhvbe"
      }
    },
    {
      "cell_type": "markdown",
      "source": [
        "**Муррр** ♥"
      ],
      "metadata": {
        "id": "GTJ1GuCMIhYi"
      }
    }
  ]
}